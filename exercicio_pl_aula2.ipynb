{
  "nbformat": 4,
  "nbformat_minor": 0,
  "metadata": {
    "colab": {
      "provenance": [],
      "authorship_tag": "ABX9TyOFmLlxhr8HvR9cihD1M2DU",
      "include_colab_link": true
    },
    "kernelspec": {
      "name": "python3",
      "display_name": "Python 3"
    },
    "language_info": {
      "name": "python"
    }
  },
  "cells": [
    {
      "cell_type": "markdown",
      "metadata": {
        "id": "view-in-github",
        "colab_type": "text"
      },
      "source": [
        "<a href=\"https://colab.research.google.com/github/maiconcentner/pesquisa_operacional/blob/main/exercicio_pl_aula2.ipynb\" target=\"_parent\"><img src=\"https://colab.research.google.com/assets/colab-badge.svg\" alt=\"Open In Colab\"/></a>"
      ]
    },
    {
      "cell_type": "code",
      "execution_count": 5,
      "metadata": {
        "colab": {
          "base_uri": "https://localhost:8080/",
          "height": 0
        },
        "id": "GndyuW5Xze0R",
        "outputId": "789b86a4-4758-4de4-e7bb-3655ecc7e214"
      },
      "outputs": [
        {
          "output_type": "stream",
          "name": "stdout",
          "text": [
            "Requirement already satisfied: pulp in /usr/local/lib/python3.10/dist-packages (2.7.0)\n"
          ]
        }
      ],
      "source": [
        "!pip install pulp\n",
        "import pulp"
      ]
    },
    {
      "cell_type": "code",
      "source": [
        "# Criar o problema\n",
        "problem = pulp.LpProblem(\"Exemplo_PL\", pulp.LpMinimize)\n",
        "\n",
        "# Variáveis de decisão (x_i = 0 ou 1)\n",
        "x = {i: pulp.LpVariable(f\"x{i}\", cat=pulp.LpBinary) for i in range(1, 15)}\n",
        "\n",
        "# Função objetivo\n",
        "problem += 10*x[1] - 2*x[2] + 50*x[3] + 2*x[4] + 3*x[5] + 20*x[6] + 4*x[7] + 7*x[8] + 2*x[9] + 20*x[10] - 10*x[11] + 3*x[12] + 1*x[13] + 5*x[14], \"Função Objetivo\"\n",
        "\n",
        "# Restrições\n",
        "problem += 1*x[1] + 10*x[2] + 5*x[3] + 11*x[4] + 4*x[5] + 2*x[6] + 14*x[7] + 3*x[8] + 2*x[9] - 20*x[10] + 1*x[11] + 3*x[12] - 1*x[13] - 5*x[14] <= 13, \"Restrição 1\"\n",
        "problem += 10*x[1] - 2*x[2] - 4*x[3] + 20*x[4] + 20*x[5] + 9*x[6] + 21*x[7] - 1*x[8] + 3*x[9] + 2*x[10] + 4*x[11] + 13*x[12] + 7*x[13] + 3*x[14] <= 24, \"Restrição 2\"\n",
        "problem += 2*x[1] + 20*x[2] + 5*x[3] + 12*x[4] + 5*x[5] - 4*x[6] + 15*x[7] - 3*x[8] + 1*x[9] + 12*x[10] + 4*x[11] + 6*x[12] - 9*x[13] + 7*x[14] <= 33, \"Restrição 3\"\n",
        "problem += 3*x[1] - 9*x[2] + 3*x[3] + 9*x[4] - 6*x[5] + 10*x[6] + 9*x[7] + 8*x[8] + 7*x[9] + 22*x[10] + 7*x[11] + 9*x[12] + 5*x[13] + 15*x[14] <= 15, \"Restrição 4\"\n",
        "problem += 4*x[1] + 3*x[2] + 8*x[3] + 21*x[4] + 3*x[5] - 20*x[6] + 14*x[7] + 6*x[8] + 6*x[9] - 2*x[10] + 1*x[11] + 7*x[12] + 3*x[13] + 9*x[14] <= 22, \"Restrição 5\"\n",
        "\n",
        "# Resolver o problema\n",
        "problem.solve()\n",
        "\n",
        "# Imprimir o resultado\n",
        "print(\"Status:\", pulp.LpStatus[problem.status])\n",
        "print(\"Valor ótimo da função objetivo =\", pulp.value(problem.objective))\n",
        "print(\"Valores das variáveis de decisão:\")\n",
        "for var in problem.variables():\n",
        "    print(f\"{var.name} = {var.varValue}\")\n"
      ],
      "metadata": {
        "colab": {
          "base_uri": "https://localhost:8080/",
          "height": 0
        },
        "id": "ZBZggGBJ0yl2",
        "outputId": "e0edbac5-77c4-42df-c55b-c98e07523cfa"
      },
      "execution_count": 4,
      "outputs": [
        {
          "output_type": "stream",
          "name": "stdout",
          "text": [
            "Status: Optimal\n",
            "Valor ótimo da função objetivo = -12.0\n",
            "Valores das variáveis de decisão:\n",
            "x1 = 0.0\n",
            "x10 = 0.0\n",
            "x11 = 1.0\n",
            "x12 = 0.0\n",
            "x13 = 0.0\n",
            "x14 = 0.0\n",
            "x2 = 1.0\n",
            "x3 = 0.0\n",
            "x4 = 0.0\n",
            "x5 = 0.0\n",
            "x6 = 0.0\n",
            "x7 = 0.0\n",
            "x8 = 0.0\n",
            "x9 = 0.0\n"
          ]
        }
      ]
    }
  ]
}